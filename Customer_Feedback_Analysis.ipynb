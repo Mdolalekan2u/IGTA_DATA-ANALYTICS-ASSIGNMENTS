{
 "cells": [
  {
   "cell_type": "code",
   "execution_count": 2,
   "id": "82153e0e-ee46-474a-8932-f009d65226c0",
   "metadata": {},
   "outputs": [
    {
     "name": "stdout",
     "output_type": "stream",
     "text": [
      "Library imported successfully\n"
     ]
    }
   ],
   "source": [
    "import pandas as pd\n",
    "print(\"Library imported successfully\")"
   ]
  },
  {
   "cell_type": "code",
   "execution_count": 3,
   "id": "11f2b15a-1f6a-4c72-928a-ec84161a0234",
   "metadata": {},
   "outputs": [
    {
     "data": {
      "text/html": [
       "<div>\n",
       "<style scoped>\n",
       "    .dataframe tbody tr th:only-of-type {\n",
       "        vertical-align: middle;\n",
       "    }\n",
       "\n",
       "    .dataframe tbody tr th {\n",
       "        vertical-align: top;\n",
       "    }\n",
       "\n",
       "    .dataframe thead th {\n",
       "        text-align: right;\n",
       "    }\n",
       "</style>\n",
       "<table border=\"1\" class=\"dataframe\">\n",
       "  <thead>\n",
       "    <tr style=\"text-align: right;\">\n",
       "      <th></th>\n",
       "      <th>Date</th>\n",
       "      <th>Customer ID</th>\n",
       "      <th>Region</th>\n",
       "      <th>Product</th>\n",
       "      <th>Support Rating</th>\n",
       "      <th>Product Rating</th>\n",
       "      <th>Comments</th>\n",
       "    </tr>\n",
       "  </thead>\n",
       "  <tbody>\n",
       "    <tr>\n",
       "      <th>0</th>\n",
       "      <td>2024-01-05</td>\n",
       "      <td>CUST001</td>\n",
       "      <td>North</td>\n",
       "      <td>Software A</td>\n",
       "      <td>4</td>\n",
       "      <td>5</td>\n",
       "      <td>Quick resolution</td>\n",
       "    </tr>\n",
       "    <tr>\n",
       "      <th>1</th>\n",
       "      <td>2024-01-07</td>\n",
       "      <td>CUST002</td>\n",
       "      <td>South</td>\n",
       "      <td>Software B</td>\n",
       "      <td>3</td>\n",
       "      <td>4</td>\n",
       "      <td>Some bugs found</td>\n",
       "    </tr>\n",
       "    <tr>\n",
       "      <th>2</th>\n",
       "      <td>2024-01-09</td>\n",
       "      <td>CUST003</td>\n",
       "      <td>East</td>\n",
       "      <td>Software C</td>\n",
       "      <td>5</td>\n",
       "      <td>5</td>\n",
       "      <td>Very satisfied</td>\n",
       "    </tr>\n",
       "    <tr>\n",
       "      <th>3</th>\n",
       "      <td>2024-02-01</td>\n",
       "      <td>CUST004</td>\n",
       "      <td>North</td>\n",
       "      <td>Software A</td>\n",
       "      <td>4</td>\n",
       "      <td>4</td>\n",
       "      <td>Support was helpful</td>\n",
       "    </tr>\n",
       "    <tr>\n",
       "      <th>4</th>\n",
       "      <td>2024-02-10</td>\n",
       "      <td>CUST005</td>\n",
       "      <td>South</td>\n",
       "      <td>Software B</td>\n",
       "      <td>2</td>\n",
       "      <td>3</td>\n",
       "      <td>Could be improved</td>\n",
       "    </tr>\n",
       "  </tbody>\n",
       "</table>\n",
       "</div>"
      ],
      "text/plain": [
       "         Date Customer ID Region     Product  Support Rating  Product Rating  \\\n",
       "0  2024-01-05     CUST001  North  Software A               4               5   \n",
       "1  2024-01-07     CUST002  South  Software B               3               4   \n",
       "2  2024-01-09     CUST003   East  Software C               5               5   \n",
       "3  2024-02-01     CUST004  North  Software A               4               4   \n",
       "4  2024-02-10     CUST005  South  Software B               2               3   \n",
       "\n",
       "              Comments  \n",
       "0     Quick resolution  \n",
       "1      Some bugs found  \n",
       "2       Very satisfied  \n",
       "3  Support was helpful  \n",
       "4    Could be improved  "
      ]
     },
     "execution_count": 3,
     "metadata": {},
     "output_type": "execute_result"
    }
   ],
   "source": [
    "df = pd.read_csv(\"customer_feedback_scores.csv\")\n",
    "df.head()"
   ]
  },
  {
   "cell_type": "code",
   "execution_count": 4,
   "id": "cf462849-99b9-4fd7-adc9-d475e4e04c14",
   "metadata": {},
   "outputs": [
    {
     "data": {
      "text/html": [
       "<div>\n",
       "<style scoped>\n",
       "    .dataframe tbody tr th:only-of-type {\n",
       "        vertical-align: middle;\n",
       "    }\n",
       "\n",
       "    .dataframe tbody tr th {\n",
       "        vertical-align: top;\n",
       "    }\n",
       "\n",
       "    .dataframe thead th {\n",
       "        text-align: right;\n",
       "    }\n",
       "</style>\n",
       "<table border=\"1\" class=\"dataframe\">\n",
       "  <thead>\n",
       "    <tr style=\"text-align: right;\">\n",
       "      <th></th>\n",
       "      <th>Product</th>\n",
       "      <th>Support Rating</th>\n",
       "      <th>Product Rating</th>\n",
       "    </tr>\n",
       "  </thead>\n",
       "  <tbody>\n",
       "    <tr>\n",
       "      <th>0</th>\n",
       "      <td>Software A</td>\n",
       "      <td>4.0</td>\n",
       "      <td>4.6</td>\n",
       "    </tr>\n",
       "    <tr>\n",
       "      <th>1</th>\n",
       "      <td>Software B</td>\n",
       "      <td>3.0</td>\n",
       "      <td>3.6</td>\n",
       "    </tr>\n",
       "    <tr>\n",
       "      <th>2</th>\n",
       "      <td>Software C</td>\n",
       "      <td>4.8</td>\n",
       "      <td>4.6</td>\n",
       "    </tr>\n",
       "  </tbody>\n",
       "</table>\n",
       "</div>"
      ],
      "text/plain": [
       "      Product  Support Rating  Product Rating\n",
       "0  Software A             4.0             4.6\n",
       "1  Software B             3.0             3.6\n",
       "2  Software C             4.8             4.6"
      ]
     },
     "execution_count": 4,
     "metadata": {},
     "output_type": "execute_result"
    }
   ],
   "source": [
    "feedback = df.groupby(['Product'])[['Support Rating', 'Product Rating']].mean().reset_index()\n",
    "feedback"
   ]
  },
  {
   "cell_type": "code",
   "execution_count": 18,
   "id": "a49fce21-2989-4a22-8d43-8148910e6d87",
   "metadata": {},
   "outputs": [],
   "source": [
    "writer = pd.ExcelWriter(\"Feedback Rating Bar Chart.xlsx\", engine = \"xlsxwriter\")\n",
    "feedback.to_excel(writer, sheet_name = 'Feedback_Summary', index = False)"
   ]
  },
  {
   "cell_type": "code",
   "execution_count": 19,
   "id": "ef7742fb-228e-4e27-9e1b-f37e8bf13bec",
   "metadata": {},
   "outputs": [],
   "source": [
    "workbook = writer.book\n",
    "worksheet = writer.sheets['Feedback_Summary']\n",
    "\n",
    "# Create a column chart\n",
    "chart = workbook.add_chart({'type': 'bar'})\n",
    "\n",
    "# Add a series for each rating type\n",
    "\n",
    "chart.add_series({\n",
    "    'name':       ['Feedback_Summary', 0, 1], # Support Rating\n",
    "    'categories': ['Feedback_Summary', 1, 0, len(feedback), 0],\n",
    "    'values':     ['Feedback_Summary', 1, 1, len(feedback), 1],\n",
    "})\n",
    "\n",
    "\n",
    "chart.add_series({\n",
    "    'name':       ['Feedback_Summary', 0, 2],  # Product Rating\n",
    "    'categories': ['Feedback_Summary', 1, 0, len(feedback), 0],\n",
    "    'values':     ['Feedback_Summary', 1, 2, len(feedback), 2],\n",
    "})\n",
    "\n",
    "# Configure chart\n",
    "chart.set_title({'name': 'Product Ratings'})\n",
    "chart.set_y_axis({'name': 'Product'})\n",
    "chart.set_x_axis({'name': 'Rating (1–5)'})\n",
    "\n",
    "\n",
    "# Insert the chart into the worksheet\n",
    "worksheet.insert_chart('E2', chart)\n",
    "\n",
    "# Save the Excel file\n",
    "writer.close()"
   ]
  },
  {
   "cell_type": "code",
   "execution_count": null,
   "id": "63a69b6d-8895-43c7-8386-9d6e393f68cb",
   "metadata": {},
   "outputs": [],
   "source": []
  }
 ],
 "metadata": {
  "kernelspec": {
   "display_name": "Python 3 (ipykernel)",
   "language": "python",
   "name": "python3"
  },
  "language_info": {
   "codemirror_mode": {
    "name": "ipython",
    "version": 3
   },
   "file_extension": ".py",
   "mimetype": "text/x-python",
   "name": "python",
   "nbconvert_exporter": "python",
   "pygments_lexer": "ipython3",
   "version": "3.13.2"
  }
 },
 "nbformat": 4,
 "nbformat_minor": 5
}
